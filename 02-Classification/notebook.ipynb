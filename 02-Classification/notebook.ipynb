{
 "cells": [
  {
   "cell_type": "code",
   "execution_count": 2,
   "metadata": {},
   "outputs": [],
   "source": [
    "import numpy as np"
   ]
  },
  {
   "cell_type": "code",
   "execution_count": 3,
   "metadata": {},
   "outputs": [
    {
     "data": {
      "text/plain": [
       "array([0., 0., 0., 1., 0.])"
      ]
     },
     "execution_count": 3,
     "metadata": {},
     "output_type": "execute_result"
    }
   ],
   "source": [
    "k = 5 # number of classes\n",
    "\n",
    "class_lable = 3 # cn\n",
    "\n",
    "one_hot_vector = np.zeros(k)        # one hot vector for specific classification\n",
    "one_hot_vector[class_lable] = 1     # probability value for selected class_lable in vector space \n",
    "one_hot_vector                      # array of all class values for selected class_lable (1 specifies the absolute classification)"
   ]
  },
  {
   "cell_type": "code",
   "execution_count": 12,
   "metadata": {},
   "outputs": [
    {
     "name": "stdout",
     "output_type": "stream",
     "text": [
      "Softmax probabilities: [0.19588524 0.17724429 0.39446443 0.1075041  0.12490194]\n",
      "Sum of softmax probs: 1.0\n",
      "Most likely class: 2\n"
     ]
    }
   ],
   "source": [
    "# Softmax \n",
    "\n",
    "logits = np.array([0.9, 0.8, 1.6, 0.3, 0.45]) # w1, w2, ... wk\n",
    "\n",
    "def softmax(x):\n",
    "    exp_x = np.exp(x - np.max(x)) \n",
    "    return exp_x / np.sum(exp_x)\n",
    "\n",
    "softmax_probs = softmax(logits)\n",
    "print(f\"Softmax probabilities: {softmax_probs}\")\n",
    "print(f\"Sum of softmax probs: {np.sum(softmax_probs)}\")\n",
    "print(f\"Most likely class: {np.argmax(softmax_probs)}\")"
   ]
  },
  {
   "cell_type": "code",
   "execution_count": null,
   "metadata": {},
   "outputs": [],
   "source": []
  }
 ],
 "metadata": {
  "kernelspec": {
   "display_name": "env",
   "language": "python",
   "name": "python3"
  },
  "language_info": {
   "codemirror_mode": {
    "name": "ipython",
    "version": 3
   },
   "file_extension": ".py",
   "mimetype": "text/x-python",
   "name": "python",
   "nbconvert_exporter": "python",
   "pygments_lexer": "ipython3",
   "version": "3.10.9"
  }
 },
 "nbformat": 4,
 "nbformat_minor": 2
}
